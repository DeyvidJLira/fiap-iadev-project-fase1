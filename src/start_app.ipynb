{
 "cells": [
  {
   "cell_type": "markdown",
   "metadata": {},
   "source": [
    "# Imports"
   ]
  },
  {
   "cell_type": "code",
   "execution_count": 1,
   "metadata": {},
   "outputs": [],
   "source": [
    "import ipywidgets as widgets\n",
    "from IPython.display import display, clear_output\n",
    "import pandas as pd\n",
    "from save_model_manager import SaveModelManager\n",
    "from constants import Constants\n",
    "import os"
   ]
  },
  {
   "cell_type": "markdown",
   "metadata": {},
   "source": [
    "# Initalize UI"
   ]
  },
  {
   "cell_type": "code",
   "execution_count": 2,
   "metadata": {},
   "outputs": [
    {
     "data": {
      "application/vnd.jupyter.widget-view+json": {
       "model_id": "1db34f17e78e4bb4a1b50bc4e6265fcc",
       "version_major": 2,
       "version_minor": 0
      },
      "text/plain": [
       "VBox(children=(HTML(value=\"<h1 style='text-align: center;'>Previsão de custo de plano de saúde\", layout=Layout…"
      ]
     },
     "metadata": {},
     "output_type": "display_data"
    },
    {
     "name": "stdout",
     "output_type": "stream",
     "text": [
      "Loaded model: ../model/elastic_net_regression_model.pkl\n",
      "Loaded model: ../model/linear_regression_model.pkl\n"
     ]
    }
   ],
   "source": [
    "model_list = os.listdir('../model')\n",
    "\n",
    "\n",
    "title = widgets.HTML(\n",
    "    value=\"<h1 style='text-align: center;'>Previsão de custo de plano de saúde\",\n",
    "    layout=widgets.Layout(margin='10px 0px')\n",
    ")\n",
    "model_widget = widgets.Dropdown(options=model_list, description='Modelo:',layout=widgets.Layout(width='75%'))\n",
    "idade_widget = widgets.IntSlider(value=25, min=Constants.MIN_AGE, max=Constants.MAX_AGE, description='Idade:',layout=widgets.Layout(width='75%'))\n",
    "sexo_widget = widgets.Dropdown(options=Constants.SEXO_MAP.items(), description='Sexo:',layout=widgets.Layout(width='75%'))\n",
    "imc_widget = widgets.FloatSlider(value=25.0, min=Constants.MIN_IMC, max=Constants.MAX_IMC, description='IMC:',layout=widgets.Layout(width='75%'))\n",
    "criancas_widget = widgets.Dropdown(options=list(range(10)), description='Nº crianças:',layout=widgets.Layout(width='75%'))\n",
    "fumante_widget = widgets.Dropdown(options=Constants.FUMANTE_MAP.items(), description='Fumante:',layout=widgets.Layout(width='75%'))\n",
    "regiao_widget = widgets.Dropdown(options=Constants.REGIAO_MAP.items(), description='Região:',layout=widgets.Layout(width='75%'))\n",
    "submit_button = widgets.Button(description=\"Prever custo\", button_style='success', icon='check',layout=widgets.Layout(width='75%'))\n",
    "\n",
    "output_result_label = widgets.HTML(\n",
    "    value=\"<p style='font-size: 16px; color: #555;'>Valor estimado: aguardando execução...</p>\",\n",
    "    layout=widgets.Layout(margin='10px 0px')\n",
    ")\n",
    "\n",
    "def prever_custo(b):\n",
    "    if not model_list:\n",
    "      output_result_label.value = '<p style=\"font-size: 16px; color: #555;\">Você ainda não tem nenhum modelo gerado.<br>Cheque a seção <b>Comece aqui</b> para saber mais.</p>'\n",
    "      return\n",
    "    model_saved = SaveModelManager.load_model(f'../model/{model_widget.value}')\n",
    "    data = pd.DataFrame({\n",
    "        'idade': [idade_widget.value],\n",
    "        'imc': [imc_widget.value],\n",
    "        'criancas': [criancas_widget.value],\n",
    "        'sexo_1': [bool(sexo_widget.value)],\n",
    "        'fumante_1': [bool(fumante_widget.value)],\n",
    "        'regiao_1': [regiao_widget.value == 1],\n",
    "        'regiao_2': [regiao_widget.value == 2],\n",
    "        'regiao_3': [regiao_widget.value == 3],\n",
    "        'regiao_4': [regiao_widget.value == 4]\n",
    "    })\n",
    "    previsao = model_saved.predict(data)\n",
    "    output_result_label.value = f'<p style=\"font-size: 16px; color: #555;\">Modelo executado: {model_widget.value}<br>Valor estimado: R$ {previsao[0]:.2f}</p>'\n",
    "        \n",
    "\n",
    "submit_button.on_click(prever_custo)\n",
    "\n",
    "form_items = [\n",
    "    title,\n",
    "    model_widget, idade_widget, sexo_widget, imc_widget, criancas_widget, fumante_widget, regiao_widget, submit_button, \n",
    "    output_result_label\n",
    "]\n",
    "\n",
    "form = widgets.VBox(form_items, layout=widgets.Layout(\n",
    "    width='50%', \n",
    "    border='solid 1px lightgray',\n",
    "    padding='10px',\n",
    "    margin='10px'\n",
    "))\n",
    "\n",
    "# Exibir widgets\n",
    "display(form)\n",
    "\n"
   ]
  }
 ],
 "metadata": {
  "kernelspec": {
   "display_name": "base",
   "language": "python",
   "name": "python3"
  },
  "language_info": {
   "codemirror_mode": {
    "name": "ipython",
    "version": 3
   },
   "file_extension": ".py",
   "mimetype": "text/x-python",
   "name": "python",
   "nbconvert_exporter": "python",
   "pygments_lexer": "ipython3",
   "version": "3.11.7"
  }
 },
 "nbformat": 4,
 "nbformat_minor": 2
}
