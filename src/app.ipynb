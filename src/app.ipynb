{
 "cells": [
  {
   "cell_type": "code",
   "execution_count": 19,
   "metadata": {},
   "outputs": [
    {
     "name": "stdout",
     "output_type": "stream",
     "text": [
      "Loaded model: ../model/my_model.pkl\n"
     ]
    },
    {
     "data": {
      "application/vnd.jupyter.widget-view+json": {
       "model_id": "af1199a1a97945a79551bc1557bf10c5",
       "version_major": 2,
       "version_minor": 0
      },
      "text/plain": [
       "IntSlider(value=25, description='Idade:', max=120, min=18)"
      ]
     },
     "metadata": {},
     "output_type": "display_data"
    },
    {
     "data": {
      "application/vnd.jupyter.widget-view+json": {
       "model_id": "cc403edd7e8947678a96cea38ccba4c5",
       "version_major": 2,
       "version_minor": 0
      },
      "text/plain": [
       "Dropdown(description='Sexo:', options=(('masculino', 0), ('feminino', 1)), value=0)"
      ]
     },
     "metadata": {},
     "output_type": "display_data"
    },
    {
     "data": {
      "application/vnd.jupyter.widget-view+json": {
       "model_id": "feddafc006ba468dbdd5792901c004e9",
       "version_major": 2,
       "version_minor": 0
      },
      "text/plain": [
       "FloatSlider(value=25.0, description='IMC:', max=50.0)"
      ]
     },
     "metadata": {},
     "output_type": "display_data"
    },
    {
     "data": {
      "application/vnd.jupyter.widget-view+json": {
       "model_id": "6fce7029f93245158c3ddac23a5006eb",
       "version_major": 2,
       "version_minor": 0
      },
      "text/plain": [
       "Dropdown(description='Nº crianças:', options=(0, 1, 2, 3, 4, 5, 6, 7, 8, 9), value=0)"
      ]
     },
     "metadata": {},
     "output_type": "display_data"
    },
    {
     "data": {
      "application/vnd.jupyter.widget-view+json": {
       "model_id": "10f0cd5f17d14004b5b0076939612f1c",
       "version_major": 2,
       "version_minor": 0
      },
      "text/plain": [
       "Dropdown(description='Fumante:', options=(('nao', 0), ('sim', 1)), value=0)"
      ]
     },
     "metadata": {},
     "output_type": "display_data"
    },
    {
     "data": {
      "application/vnd.jupyter.widget-view+json": {
       "model_id": "1c31096ed23c4b0ba269ba6403b503c7",
       "version_major": 2,
       "version_minor": 0
      },
      "text/plain": [
       "Dropdown(description='Região:', options=(('norte', 0), ('nordeste', 1), ('centro oeste', 2), ('sul', 3), ('sud…"
      ]
     },
     "metadata": {},
     "output_type": "display_data"
    },
    {
     "data": {
      "application/vnd.jupyter.widget-view+json": {
       "model_id": "cb0eb13c5446410f9f4b5ed40d1ddeb5",
       "version_major": 2,
       "version_minor": 0
      },
      "text/plain": [
       "Button(description='Prever custo', style=ButtonStyle())"
      ]
     },
     "metadata": {},
     "output_type": "display_data"
    },
    {
     "data": {
      "application/vnd.jupyter.widget-view+json": {
       "model_id": "93f218358ca74551b4503f0ef08ddd11",
       "version_major": 2,
       "version_minor": 0
      },
      "text/plain": [
       "Output()"
      ]
     },
     "metadata": {},
     "output_type": "display_data"
    }
   ],
   "source": [
    "import ipywidgets as widgets\n",
    "from IPython.display import display, clear_output\n",
    "import pandas as pd\n",
    "from save_model_manager import SaveModelManager\n",
    "from maps import sexo_map, fumante_map, regiao_map\n",
    "import constants as Constants\n",
    "\n",
    "# Carregar o modelo salvo e o dataset\n",
    "model_saved = SaveModelManager.load_model(\"../model/my_model.pkl\")\n",
    "df_final = pd.read_csv('../data/final.csv')\n",
    "\n",
    "idade_widget = widgets.IntSlider(value=25, min=Constants.MIN_AGE, max=Constants.MAX_AGE, description='Idade:')\n",
    "sexo_widget = widgets.Dropdown(options=sexo_map.items(), description='Sexo:')\n",
    "imc_widget = widgets.FloatSlider(value=25.0, min=Constants.MIN_IMC, max=Constants.MAX_IMC, description='IMC:')\n",
    "criancas_widget = widgets.Dropdown(options=list(range(10)), description='Nº crianças:')\n",
    "fumante_widget = widgets.Dropdown(options=fumante_map.items(), description='Fumante:')\n",
    "regiao_widget = widgets.Dropdown(options=regiao_map.items(), description='Região:')\n",
    "submit_button = widgets.Button(description=\"Prever custo\")\n",
    "\n",
    "output_widget = widgets.Output()\n",
    "\n",
    "def prever_custo(b):\n",
    "    with output_widget:\n",
    "        clear_output()\n",
    "        data = pd.DataFrame({\n",
    "            'idade': [idade_widget.value],\n",
    "            'imc': [imc_widget.value],\n",
    "            'criancas': [criancas_widget.value],\n",
    "            'sexo_1': [bool(sexo_widget.value)],\n",
    "            'fumante_1': [bool(fumante_widget.value)],\n",
    "            'regiao_1': [regiao_widget.value == 1],\n",
    "            'regiao_2': [regiao_widget.value == 2],\n",
    "            'regiao_3': [regiao_widget.value == 3],\n",
    "            'regiao_4': [regiao_widget.value == 4]\n",
    "        })\n",
    "\n",
    "        previsao = model_saved.predict(data)\n",
    "        print(f'Valor estimado: R$ {previsao[0]:.2f}')\n",
    "\n",
    "submit_button.on_click(prever_custo)\n",
    "\n",
    "# Exibir widgets\n",
    "display(idade_widget, sexo_widget, imc_widget, criancas_widget, fumante_widget, regiao_widget, submit_button, output_widget)\n"
   ]
  }
 ],
 "metadata": {
  "kernelspec": {
   "display_name": "base",
   "language": "python",
   "name": "python3"
  },
  "language_info": {
   "codemirror_mode": {
    "name": "ipython",
    "version": 3
   },
   "file_extension": ".py",
   "mimetype": "text/x-python",
   "name": "python",
   "nbconvert_exporter": "python",
   "pygments_lexer": "ipython3",
   "version": "3.11.7"
  }
 },
 "nbformat": 4,
 "nbformat_minor": 2
}
